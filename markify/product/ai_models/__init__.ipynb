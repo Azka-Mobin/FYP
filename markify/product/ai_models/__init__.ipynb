{
 "cells": [
  {
   "cell_type": "code",
   "execution_count": 10,
   "metadata": {},
   "outputs": [
    {
     "name": "stdout",
     "output_type": "stream",
     "text": [
      "🔥 Dell Latitude E7440 - Powerful Windows 8 Laptop - 4GB RAM\n",
      "🔥 Get the Dell Latitude E7440, the ultimate business laptop! 💼 With a powerful Core i5 processor and 4GB of RAM, this laptop is perfect for running demanding applications and multitasking. 📈 The 256GB SSD storage provides ample space for all your files and data, while the 14.00-inch display ensures an immersive viewing experience. 📱 Plus, with Windows 8, you'll have access to all your favorite apps and features. 📊 Don't miss out on this amazing deal! Get the Dell Latitude E7440 for just PKR 30000. 💰 Order now and take your business to the next level!\n"
     ]
    }
   ],
   "source": [
    "import os\n",
    "\n",
    "os.environ[\"REPLICATE_API_TOKEN\"]= 'r8_Kplpe9ZIobo0w8WS0BqjuGQPJf7JtYd0JuaHC'\n",
    "\n",
    "import replicate\n",
    "\n",
    "\n",
    "\n",
    "\n",
    "\n",
    "def get_ad_title(product_name, product_description):\n",
    "    \n",
    "    # Prompts\n",
    "    pre_prompt_1 = \"Generate a compelling ad title for the following product: Product Name:\"\n",
    "    pre_prompt_2 = \"Product Description:\"\n",
    "    \n",
    "    # Generate LLM response\n",
    "    output = replicate.run('a16z-infra/llama13b-v2-chat:df7690f1994d94e96ad9d568eac121aecf50684a0b0963b25a41cc40061269e5', # LLM model\n",
    "                        input={\"prompt\": f\"{pre_prompt_1} {product_name} {pre_prompt_2} {product_description} Ad Title: \", # Prompts\n",
    "                        \"temperature\":0.1, \"top_p\":0.9, \"max_length\":128, \"repetition_penalty\":1})\n",
    "    \n",
    "    full_response = \"\"\n",
    "\n",
    "    for item in output:\n",
    "        full_response += item\n",
    "        \n",
    "    return full_response\n",
    "\n",
    "def get_ad_body(product_name, product_description, product_price, ad_title):\n",
    "    \n",
    "    # Prompts\n",
    "    pre_prompt_0 = \"Donot use emojis and unicode characters. \"\n",
    "    pre_prompt_1 = \"Generate a compelling ad for the following product: \"\n",
    "    pre_prompt_2 = \"Product Name:\"\n",
    "    pre_prompt_3 = \"Product Description:\"\n",
    "    pre_prompt_4 = \"Product Price:\"\n",
    "    \n",
    "    # Generate LLM response\n",
    "    output = replicate.run('a16z-infra/llama13b-v2-chat:df7690f1994d94e96ad9d568eac121aecf50684a0b0963b25a41cc40061269e5', # LLM model\n",
    "                        input={\"prompt\": f\"{pre_prompt_0}{pre_prompt_1} {pre_prompt_2} {product_name} {pre_prompt_3} {product_description} {pre_prompt_4} PKR {product_price} Ad: \", # Prompts\n",
    "                        \"temperature\":0.1, \"top_p\":0.9, \"max_length\":1024, \"repetition_penalty\":1})\n",
    "    \n",
    "    full_response = \"\"\n",
    "\n",
    "    for item in output:\n",
    "        full_response += item\n",
    "        \n",
    "    return full_response\n",
    "\n",
    "product_name = \"Dell Latitude e-7440\"\n",
    "product_description = 'Dell Latitude E7440 is a Windows 8 laptop with a 14.00-inch display. It is powered by a Core i5 processor and it comes with 4GB of RAM. The Dell Latitude E7440 packs 256GB of SSD storage.'\n",
    "product_price = \"30000\"\n",
    "ad_title = get_ad_title(product_name=product_name, product_description=product_description)\n",
    "ad_description = get_ad_body(product_name=product_name, product_description=product_description, product_price=product_price, ad_title=ad_title)\n"
   ]
  }
 ],
 "metadata": {
  "kernelspec": {
   "display_name": "venv",
   "language": "python",
   "name": "python3"
  },
  "language_info": {
   "codemirror_mode": {
    "name": "ipython",
    "version": 3
   },
   "file_extension": ".py",
   "mimetype": "text/x-python",
   "name": "python",
   "nbconvert_exporter": "python",
   "pygments_lexer": "ipython3",
   "version": "3.11.5"
  },
  "orig_nbformat": 4
 },
 "nbformat": 4,
 "nbformat_minor": 2
}
